{
 "cells": [
  {
   "cell_type": "markdown",
   "metadata": {},
   "source": [
    "# Detect and fix skew angle"
   ]
  },
  {
   "cell_type": "markdown",
   "metadata": {},
   "source": [
    "## Imports"
   ]
  },
  {
   "cell_type": "code",
   "execution_count": null,
   "metadata": {},
   "outputs": [],
   "source": [
    "import cv2\n",
    "import math\n",
    "import os\n",
    "import numpy as np\n",
    "import statistics\n",
    "import time\n",
    "from IPython.display import Image"
   ]
  },
  {
   "cell_type": "markdown",
   "metadata": {},
   "source": [
    "## Codes"
   ]
  },
  {
   "cell_type": "code",
   "execution_count": null,
   "metadata": {},
   "outputs": [],
   "source": [
    "def detect_skew_angle(img, max_angle):\n",
    "    # Convert to grayscale\n",
    "    gray = cv2.cvtColor(img, cv2.COLOR_BGR2GRAY)\n",
    "    \n",
    "    # Invert black and white pixels.\n",
    "    gray = cv2.bitwise_not(gray)\n",
    "    \n",
    "    # Dilate pixels to increase document structure elements.\n",
    "    kernel = cv2.getStructuringElement(cv2.MORPH_CROSS, (2, 2))\n",
    "    gray = cv2.dilate(gray, kernel)\n",
    "    \n",
    "    # Edge detection to facilitate HoughLinesP\n",
    "    edges = cv2.Canny(gray, 50, 200, apertureSize = 3)\n",
    "    \n",
    "    # Find lines (using Probabilistic Hough Transform)\n",
    "    minLineLength = 100\n",
    "    maxLineGap = 15\n",
    "    lines = cv2.HoughLinesP(edges, 1, np.pi / 180, 100, minLineLength=minLineLength, maxLineGap=maxLineGap)\n",
    "    \n",
    "    # Find angles.\n",
    "    angles = []\n",
    "    if lines is not None:\n",
    "        for line in lines:\n",
    "            for x1, y1, x2, y2 in line:\n",
    "                # Calculate the angle\n",
    "                cur_angle = math.degrees(math.atan2(y2 - y1, x2 - x1))\n",
    "                \n",
    "                # We don't care if the angle is greater than a certain limit.\n",
    "                if -max_angle < cur_angle < max_angle:\n",
    "                    angles.append(cur_angle)\n",
    "    if len(angles) == 0:\n",
    "        # We failed to find some angles.\n",
    "        # Better luck next time.\n",
    "        return 0.0\n",
    "    \n",
    "    # The median ignore the extreme angles.\n",
    "    angle = statistics.median(angles)\n",
    "    \n",
    "    if angle < -max_angle:\n",
    "        angle = 0.0\n",
    "    if angle > max_angle:\n",
    "        angle = 0.0\n",
    "\n",
    "    return angle\n",
    "\n",
    "def fix_skew_angle(image, angle):\n",
    "    img_center = tuple(np.array(image.shape[1::-1]) / 2)\n",
    "    rotation_matrix = cv2.getRotationMatrix2D(img_center, angle, 1.0)\n",
    "    return cv2.warpAffine(image,\n",
    "                          rotation_matrix,\n",
    "                          image.shape[1::-1],\n",
    "                          flags=cv2.INTER_LINEAR,\n",
    "                          borderMode=cv2.BORDER_CONSTANT, \n",
    "                          borderValue=(255, 255, 255))\n",
    "\n",
    "# The maximum angle. (It should not be greater than 30.)\n",
    "max_angle = 20\n",
    "\n",
    "for file in os.listdir('files'):\n",
    "    img = cv2.imread('files/' + file)\n",
    "    if img is not None:\n",
    "        angle = detect_skew_angle(img, max_angle)\n",
    "        orig = cv2.imread('files/' + file)\n",
    "        deskewed_image = fix_skew_angle(orig, angle)\n",
    "        cv2.imwrite('results/' + \"r_\" + str(int(angle)) + \"_\" + file, deskewed_image)\n",
    "        \n",
    "        # Use to generate rotated image.\n",
    "        #rotated = fix_skew_angle(orig, -9)\n",
    "        #cv2.imwrite('rotated/' + \"m9_\" + file, rotated)"
   ]
  },
  {
   "cell_type": "markdown",
   "metadata": {},
   "source": [
    "## Results"
   ]
  },
  {
   "cell_type": "markdown",
   "metadata": {},
   "source": [
    "### Original image"
   ]
  },
  {
   "cell_type": "code",
   "execution_count": null,
   "metadata": {},
   "outputs": [],
   "source": [
    "Image(filename='files/form9.jpg')"
   ]
  },
  {
   "cell_type": "markdown",
   "metadata": {},
   "source": [
    "### With 4 degrees"
   ]
  },
  {
   "cell_type": "code",
   "execution_count": null,
   "metadata": {},
   "outputs": [],
   "source": [
    "Image(filename='files/p4_form9.jpg')"
   ]
  },
  {
   "cell_type": "markdown",
   "metadata": {},
   "source": [
    "### Corrected image"
   ]
  },
  {
   "cell_type": "code",
   "execution_count": null,
   "metadata": {},
   "outputs": [],
   "source": [
    "Image(filename='results/r_-4_p4_form9.jpg')"
   ]
  },
  {
   "cell_type": "markdown",
   "metadata": {},
   "source": [
    "### With 9 degrees"
   ]
  },
  {
   "cell_type": "code",
   "execution_count": null,
   "metadata": {},
   "outputs": [],
   "source": [
    "Image(filename='files/m9_form9.jpg')"
   ]
  },
  {
   "cell_type": "markdown",
   "metadata": {},
   "source": [
    "### Corrected image"
   ]
  },
  {
   "cell_type": "code",
   "execution_count": null,
   "metadata": {},
   "outputs": [],
   "source": [
    "Image(filename='results/r_8_m9_form9.jpg')"
   ]
  }
 ],
 "metadata": {
  "kernelspec": {
   "display_name": "Python 3",
   "language": "python",
   "name": "python3"
  },
  "language_info": {
   "codemirror_mode": {
    "name": "ipython",
    "version": 3
   },
   "file_extension": ".py",
   "mimetype": "text/x-python",
   "name": "python",
   "nbconvert_exporter": "python",
   "pygments_lexer": "ipython3",
   "version": "3.6.3"
  }
 },
 "nbformat": 4,
 "nbformat_minor": 2
}
